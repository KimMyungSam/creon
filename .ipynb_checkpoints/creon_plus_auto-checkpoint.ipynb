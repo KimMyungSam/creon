{
 "cells": [
  {
   "cell_type": "code",
   "execution_count": 1,
   "metadata": {},
   "outputs": [
    {
     "ename": "AppStartError",
     "evalue": "Could not create the process \"C:\\CREON\\STARTER\\coStarter.exe /prj:cp\"\nError returned by CreateProcess: (740, 'CreateProcess', '요청한 작업을 수행하려면 권한 상승이 필요합니다.')",
     "output_type": "error",
     "traceback": [
      "\u001b[1;31m---------------------------------------------------------------------------\u001b[0m",
      "\u001b[1;31merror\u001b[0m                                     Traceback (most recent call last)",
      "\u001b[1;32mC:\\Anaconda3\\lib\\site-packages\\pywinauto\\application.py\u001b[0m in \u001b[0;36mstart\u001b[1;34m(self, cmd_line, timeout, retry_interval, create_new_console, wait_for_idle, work_dir)\u001b[0m\n\u001b[0;32m    991\u001b[0m                 \u001b[0mwork_dir\u001b[0m\u001b[1;33m,\u001b[0m                               \u001b[1;31m# If None - use parent's starting directory.\u001b[0m\u001b[1;33m\u001b[0m\u001b[0m\n\u001b[1;32m--> 992\u001b[1;33m                 start_info)\t\t\t\t# STARTUPINFO structure.\n\u001b[0m\u001b[0;32m    993\u001b[0m         \u001b[1;32mexcept\u001b[0m \u001b[0mException\u001b[0m \u001b[1;32mas\u001b[0m \u001b[0mexc\u001b[0m\u001b[1;33m:\u001b[0m\u001b[1;33m\u001b[0m\u001b[0m\n",
      "\u001b[1;31merror\u001b[0m: (740, 'CreateProcess', '요청한 작업을 수행하려면 권한 상승이 필요합니다.')",
      "\nDuring handling of the above exception, another exception occurred:\n",
      "\u001b[1;31mAppStartError\u001b[0m                             Traceback (most recent call last)",
      "\u001b[1;32m<ipython-input-1-1042e3ff1cd1>\u001b[0m in \u001b[0;36m<module>\u001b[1;34m()\u001b[0m\n\u001b[0;32m      2\u001b[0m \u001b[1;33m\u001b[0m\u001b[0m\n\u001b[0;32m      3\u001b[0m \u001b[0mapp\u001b[0m \u001b[1;33m=\u001b[0m \u001b[0mapplication\u001b[0m\u001b[1;33m.\u001b[0m\u001b[0mApplication\u001b[0m\u001b[1;33m(\u001b[0m\u001b[1;33m)\u001b[0m\u001b[1;33m\u001b[0m\u001b[0m\n\u001b[1;32m----> 4\u001b[1;33m \u001b[0mapp\u001b[0m\u001b[1;33m.\u001b[0m\u001b[0mstart\u001b[0m\u001b[1;33m(\u001b[0m\u001b[1;34mr\"C:\\CREON\\STARTER\\coStarter.exe /prj:cp\"\u001b[0m\u001b[1;33m)\u001b[0m\u001b[1;33m\u001b[0m\u001b[0m\n\u001b[0m\u001b[0;32m      5\u001b[0m \u001b[0mtime\u001b[0m\u001b[1;33m.\u001b[0m\u001b[0msleep\u001b[0m\u001b[1;33m(\u001b[0m\u001b[1;36m1\u001b[0m\u001b[1;33m)\u001b[0m\u001b[1;33m\u001b[0m\u001b[0m\n\u001b[0;32m      6\u001b[0m \u001b[0mpyautogui\u001b[0m\u001b[1;33m.\u001b[0m\u001b[0mtypewrite\u001b[0m\u001b[1;33m(\u001b[0m\u001b[1;34m'\\n'\u001b[0m\u001b[1;33m,\u001b[0m \u001b[0minterval\u001b[0m\u001b[1;33m=\u001b[0m\u001b[1;36m0.1\u001b[0m\u001b[1;33m)\u001b[0m\u001b[1;33m\u001b[0m\u001b[0m\n",
      "\u001b[1;32mC:\\Anaconda3\\lib\\site-packages\\pywinauto\\application.py\u001b[0m in \u001b[0;36mstart\u001b[1;34m(self, cmd_line, timeout, retry_interval, create_new_console, wait_for_idle, work_dir)\u001b[0m\n\u001b[0;32m    995\u001b[0m             message = ('Could not create the process \"%s\"\\n'\n\u001b[0;32m    996\u001b[0m                        'Error returned by CreateProcess: %s') % (cmd_line, str(exc))\n\u001b[1;32m--> 997\u001b[1;33m             \u001b[1;32mraise\u001b[0m \u001b[0mAppStartError\u001b[0m\u001b[1;33m(\u001b[0m\u001b[0mmessage\u001b[0m\u001b[1;33m)\u001b[0m\u001b[1;33m\u001b[0m\u001b[0m\n\u001b[0m\u001b[0;32m    998\u001b[0m \u001b[1;33m\u001b[0m\u001b[0m\n\u001b[0;32m    999\u001b[0m         \u001b[0mself\u001b[0m\u001b[1;33m.\u001b[0m\u001b[0mprocess\u001b[0m \u001b[1;33m=\u001b[0m \u001b[0mdw_process_id\u001b[0m\u001b[1;33m\u001b[0m\u001b[0m\n",
      "\u001b[1;31mAppStartError\u001b[0m: Could not create the process \"C:\\CREON\\STARTER\\coStarter.exe /prj:cp\"\nError returned by CreateProcess: (740, 'CreateProcess', '요청한 작업을 수행하려면 권한 상승이 필요합니다.')"
     ]
    }
   ],
   "source": [
    "from pywinauto import application\n",
    "\n",
    "app = application.Application()\n",
    "app.start(r\"C:\\CREON\\STARTER\\coStarter.exe /prj:cp\")\n",
    "time.sleep(1)\n",
    "pyautogui.typewrite('\\n', interval=0.1)\n",
    "time.sleep(10)\n",
    "title = \"CYBOS Starter\"\n",
    "dlg = timings.WaitUntilPasses(20, 0.5, lambda: app.window_(title=title))\n",
    "pass_ctrl = dlg.Edit2\n",
    "pass_ctrl.SetFocus()\n",
    "pass_ctrl.TypeKeys('비밀번호')\n",
    "cert_ctrl = dlg.Edit3\n",
    "cert_ctrl.SetFocus()\n",
    "cert_ctrl.TypeKeys('인증서비밀번호')\n",
    "btn_ctrl = dlg.Button\n",
    "btn_ctrl.Click()"
   ]
  },
  {
   "cell_type": "code",
   "execution_count": null,
   "metadata": {},
   "outputs": [],
   "source": []
  }
 ],
 "metadata": {
  "kernelspec": {
   "display_name": "Python 3",
   "language": "python",
   "name": "python3"
  },
  "language_info": {
   "codemirror_mode": {
    "name": "ipython",
    "version": 3
   },
   "file_extension": ".py",
   "mimetype": "text/x-python",
   "name": "python",
   "nbconvert_exporter": "python",
   "pygments_lexer": "ipython3",
   "version": "3.6.4"
  }
 },
 "nbformat": 4,
 "nbformat_minor": 2
}
