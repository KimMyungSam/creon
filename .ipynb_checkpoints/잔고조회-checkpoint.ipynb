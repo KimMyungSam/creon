{
 "cells": [
  {
   "cell_type": "code",
   "execution_count": 1,
   "metadata": {},
   "outputs": [],
   "source": [
    "import win32com.client\n",
    "\n",
    "g_objCpTrade = win32com.client.Dispatch('CpTrade.CpTdUtil')\n",
    "\n",
    "# Cp6033 : 주식 잔고 조회\n",
    "class Cp6033:\n",
    "    def __init__(self):\n",
    "        acc = g_objCpTrade.AccountNumber[0]  # 계좌번호\n",
    "        accFlag = g_objCpTrade.GoodsList(acc, 1)  # 주식상품 구분\n",
    "        print(acc, accFlag[0])\n",
    " \n",
    "        self.objRq = win32com.client.Dispatch(\"CpTrade.CpTd6033\")\n",
    "        self.objRq.SetInputValue(0, acc)  # 계좌번호\n",
    "        self.objRq.SetInputValue(1, accFlag[0])  # 상품구분 - 주식 상품 중 첫번째\n",
    "        self.objRq.SetInputValue(2, 50)  # 요청 건수(최대 50)\n",
    " \n",
    "    # 실제적인 6033 통신 처리\n",
    "    def requestJango(self, caller):\n",
    "        while True:\n",
    "            ret = self.objRq.BlockRequest()\n",
    "            if ret == 4 :\n",
    "                remainTime = g_objCpStatus.LimitRequestRemainTime\n",
    "                print('연속조회 제한 오류, 남은 시간', remainTime)\n",
    "                return False\n",
    "            # 통신 및 통신 에러 처리\n",
    "            rqStatus = self.objRq.GetDibStatus()\n",
    "            rqRet = self.objRq.GetDibMsg1()\n",
    "            print(\"통신상태\", rqStatus, rqRet)\n",
    "            if rqStatus != 0:\n",
    "                return False\n",
    " \n",
    "            cnt = self.objRq.GetHeaderValue(7)\n",
    "            print(cnt)\n",
    " \n",
    "            for i in range(cnt):\n",
    "                item = {}\n",
    "                code = self.objRq.GetDataValue(12, i)  # 종목코드\n",
    "                item['종목코드'] = code\n",
    "                item['종목명'] = self.objRq.GetDataValue(0, i)  # 종목명\n",
    "                item['현금신용'] = self.objRq.GetDataValue(1, i)  # 신용구분\n",
    "                print(code, '현금신용', item['현금신용'])\n",
    "                item['대출일'] = self.objRq.GetDataValue(2, i)  # 대출일\n",
    "                item['잔고수량'] = self.objRq.GetDataValue(7, i)  # 체결잔고수량\n",
    "                item['매도가능'] = self.objRq.GetDataValue(15, i)\n",
    "                item['장부가'] = self.objRq.GetDataValue(17, i)  # 체결장부단가\n",
    "                # 매입금액 = 장부가 * 잔고수량\n",
    "                item['매입금액'] = item['장부가'] * item['잔고수량']\n",
    " \n",
    "                # 잔고 추가\n",
    "                caller.jangoData[code] = item\n",
    " \n",
    "                if len(caller.jangoData) >= 200:  # 최대 200 종목만,\n",
    "                    break\n",
    " \n",
    "            if len(caller.jangoData) >= 200:\n",
    "                break\n",
    "            if (self.objRq.Continue == False):\n",
    "                break\n",
    "        return True\n",
    "  \n"
   ]
  },
  {
   "cell_type": "code",
   "execution_count": 2,
   "metadata": {},
   "outputs": [
    {
     "ename": "NameError",
     "evalue": "name 'g_objCpTrade' is not defined",
     "output_type": "error",
     "traceback": [
      "\u001b[1;31m---------------------------------------------------------------------------\u001b[0m",
      "\u001b[1;31mNameError\u001b[0m                                 Traceback (most recent call last)",
      "\u001b[1;32m<ipython-input-2-3a6de6184791>\u001b[0m in \u001b[0;36m<module>\u001b[1;34m()\u001b[0m\n\u001b[0;32m      1\u001b[0m \u001b[1;31m# 6033 잔고 object\u001b[0m\u001b[1;33m\u001b[0m\u001b[1;33m\u001b[0m\u001b[0m\n\u001b[1;32m----> 2\u001b[1;33m \u001b[0mobj6033\u001b[0m \u001b[1;33m=\u001b[0m \u001b[0mCp6033\u001b[0m\u001b[1;33m(\u001b[0m\u001b[1;33m)\u001b[0m\u001b[1;33m\u001b[0m\u001b[0m\n\u001b[0m\u001b[0;32m      3\u001b[0m \u001b[0mjangoData\u001b[0m \u001b[1;33m=\u001b[0m \u001b[1;33m{\u001b[0m\u001b[1;33m}\u001b[0m\u001b[1;33m\u001b[0m\u001b[0m\n\u001b[0;32m      4\u001b[0m \u001b[0mobj6033\u001b[0m\u001b[1;33m.\u001b[0m\u001b[0mrequestJango\u001b[0m\u001b[1;33m(\u001b[0m\u001b[0mself\u001b[0m\u001b[1;33m)\u001b[0m\u001b[1;33m\u001b[0m\u001b[0m\n\u001b[0;32m      5\u001b[0m \u001b[1;33m\u001b[0m\u001b[0m\n",
      "\u001b[1;32m<ipython-input-1-4744273d140b>\u001b[0m in \u001b[0;36m__init__\u001b[1;34m(self)\u001b[0m\n\u001b[0;32m      4\u001b[0m \u001b[1;32mclass\u001b[0m \u001b[0mCp6033\u001b[0m\u001b[1;33m:\u001b[0m\u001b[1;33m\u001b[0m\u001b[0m\n\u001b[0;32m      5\u001b[0m     \u001b[1;32mdef\u001b[0m \u001b[0m__init__\u001b[0m\u001b[1;33m(\u001b[0m\u001b[0mself\u001b[0m\u001b[1;33m)\u001b[0m\u001b[1;33m:\u001b[0m\u001b[1;33m\u001b[0m\u001b[0m\n\u001b[1;32m----> 6\u001b[1;33m         \u001b[0macc\u001b[0m \u001b[1;33m=\u001b[0m \u001b[0mg_objCpTrade\u001b[0m\u001b[1;33m.\u001b[0m\u001b[0mAccountNumber\u001b[0m\u001b[1;33m[\u001b[0m\u001b[1;36m0\u001b[0m\u001b[1;33m]\u001b[0m  \u001b[1;31m# 계좌번호\u001b[0m\u001b[1;33m\u001b[0m\u001b[0m\n\u001b[0m\u001b[0;32m      7\u001b[0m         \u001b[0maccFlag\u001b[0m \u001b[1;33m=\u001b[0m \u001b[0mg_objCpTrade\u001b[0m\u001b[1;33m.\u001b[0m\u001b[0mGoodsList\u001b[0m\u001b[1;33m(\u001b[0m\u001b[0macc\u001b[0m\u001b[1;33m,\u001b[0m \u001b[1;36m1\u001b[0m\u001b[1;33m)\u001b[0m  \u001b[1;31m# 주식상품 구분\u001b[0m\u001b[1;33m\u001b[0m\u001b[0m\n\u001b[0;32m      8\u001b[0m         \u001b[0mprint\u001b[0m\u001b[1;33m(\u001b[0m\u001b[0macc\u001b[0m\u001b[1;33m,\u001b[0m \u001b[0maccFlag\u001b[0m\u001b[1;33m[\u001b[0m\u001b[1;36m0\u001b[0m\u001b[1;33m]\u001b[0m\u001b[1;33m)\u001b[0m\u001b[1;33m\u001b[0m\u001b[0m\n",
      "\u001b[1;31mNameError\u001b[0m: name 'g_objCpTrade' is not defined"
     ]
    }
   ],
   "source": [
    "# 6033 잔고 object\n",
    "obj6033 = Cp6033()\n",
    "jangoData = {}\n",
    "obj6033.requestJango(self)\n",
    "\n",
    "\n"
   ]
  }
 ],
 "metadata": {
  "kernelspec": {
   "display_name": "Python 3",
   "language": "python",
   "name": "python3"
  },
  "language_info": {
   "codemirror_mode": {
    "name": "ipython",
    "version": 3
   },
   "file_extension": ".py",
   "mimetype": "text/x-python",
   "name": "python",
   "nbconvert_exporter": "python",
   "pygments_lexer": "ipython3",
   "version": "3.6.4"
  }
 },
 "nbformat": 4,
 "nbformat_minor": 2
}
