{
 "cells": [
  {
   "cell_type": "code",
   "execution_count": 1,
   "metadata": {},
   "outputs": [],
   "source": [
    "import sys\n",
    "import ChatBotModel\n",
    "\n",
    "def proc_RM(bot, update):\n",
    "    BUS.sendMessage('Risk Management')\n",
    "    sound = firecracker()\n",
    "    BUS.sendMessage(sound)\n",
    "\n",
    "def proc_stop(bot, update):\n",
    "    BUS.sendMessage('BUS STOP.')\n",
    "    BUS.stop()\n",
    "\n",
    "def firecracker():\n",
    "    return 'Good Luck'\n",
    "\n",
    "# 텔레그램 봇 생성하기\n",
    "BUS = ChatBotModel.Bot2ndBUS()\n",
    "\n",
    "#텔레그램봇 메세지 보내기\n",
    "try:\n",
    "    BUS.sendMessage(\"자동매매를 시작합니다.\")\n",
    "except Exception as ex:\n",
    "    print (\"텔레그램 오류가 발생했습니다.\", ex)\n",
    "    pass  # telegram 처음 첫 시작시 timeout error가 발생하는 경우있어, 발생시 무시고하고 진행함.\n",
    "\n",
    "BUS.add_handler('rm', proc_RM)\n",
    "BUS.add_handler('stop', proc_stop)\n",
    "\n",
    "# BUS.sendPhoto(open('img.jpg', 'rb'))\n",
    "\n",
    "# BUS.start()"
   ]
  },
  {
   "cell_type": "code",
   "execution_count": 2,
   "metadata": {},
   "outputs": [],
   "source": [
    "from tabulate import tabulate\n",
    "\n",
    "message = tabulate({\n",
    "}, headers=['current', 'max'], tablefmt='simple')\n",
    "message = \"<pre>{}</pre>\".format(message)\n",
    "\n",
    "BUS.sendMessage2html(message) "
   ]
  },
  {
   "cell_type": "code",
   "execution_count": null,
   "metadata": {},
   "outputs": [],
   "source": []
  }
 ],
 "metadata": {
  "kernelspec": {
   "display_name": "Python 3",
   "language": "python",
   "name": "python3"
  },
  "language_info": {
   "codemirror_mode": {
    "name": "ipython",
    "version": 3
   },
   "file_extension": ".py",
   "mimetype": "text/x-python",
   "name": "python",
   "nbconvert_exporter": "python",
   "pygments_lexer": "ipython3",
   "version": "3.6.4"
  }
 },
 "nbformat": 4,
 "nbformat_minor": 2
}
