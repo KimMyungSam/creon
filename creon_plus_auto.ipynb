{
 "cells": [
  {
   "cell_type": "code",
   "execution_count": 3,
   "metadata": {},
   "outputs": [
    {
     "data": {
      "text/plain": [
       "128"
      ]
     },
     "execution_count": 3,
     "metadata": {},
     "output_type": "execute_result"
    }
   ],
   "source": [
    "from pywinauto import application\n",
    "from pywinauto import timings\n",
    "import time\n",
    "import os\n",
    "\n",
    "app = application.Application()\n",
    "#app.start('C:\\CREON\\STARTER\\coStarter.exe /prj:cp /id:creo03 /pwd:rlaehgus /pwdcert:zzzzz /autostart')\n",
    "app.start('C:\\CREON\\STARTER\\coStarter.exe /prj:cp /id:creo03 /pwd:rlaehgus /autostart')\n",
    "\n",
    "time.sleep(50)\n",
    "\n",
    "os.system(\"taskkill /im coStarter.exe\")"
   ]
  },
  {
   "cell_type": "code",
   "execution_count": null,
   "metadata": {},
   "outputs": [],
   "source": []
  }
 ],
 "metadata": {
  "kernelspec": {
   "display_name": "Python 3",
   "language": "python",
   "name": "python3"
  },
  "language_info": {
   "codemirror_mode": {
    "name": "ipython",
    "version": 3
   },
   "file_extension": ".py",
   "mimetype": "text/x-python",
   "name": "python",
   "nbconvert_exporter": "python",
   "pygments_lexer": "ipython3",
   "version": "3.6.4"
  }
 },
 "nbformat": 4,
 "nbformat_minor": 2
}
