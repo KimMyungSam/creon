{
 "cells": [
  {
   "cell_type": "code",
   "execution_count": 3,
   "metadata": {},
   "outputs": [],
   "source": [
    "import win32com.client\n",
    "\n",
    "# Cp6033 : 주식 잔고 조회\n",
    "class Cp6033:\n",
    "    def __init__(self):\n",
    "        # 통신 OBJECT 기본 세팅\n",
    "        self.objTrade = win32com.client.Dispatch(\"CpTrade.CpTdUtil\")\n",
    "        initCheck = self.objTrade.TradeInit(0)\n",
    "        if (initCheck != 0):\n",
    "            print(\"주문 초기화 실패\")\n",
    "            return\n",
    " \n",
    "        # \n",
    "        acc = self.objTrade.AccountNumber[0]  # 계좌번호\n",
    "        accFlag = self.objTrade.GoodsList(acc, 1)  # 주식상품 구분\n",
    "        print(acc, accFlag[0])\n",
    " \n",
    "        self.objRq = win32com.client.Dispatch(\"CpTrade.CpTd6033\")\n",
    "        self.objRq.SetInputValue(0, acc)  # 계좌번호\n",
    "        self.objRq.SetInputValue(1, accFlag[0])  # 상품구분 - 주식 상품 중 첫번째\n",
    "        self.objRq.SetInputValue(2, 50)  #  요청 건수(최대 50)\n",
    " \n",
    "    # 실제적인 6033 통신 처리\n",
    "    def rq6033(self, retcode):\n",
    "        self.objRq.BlockRequest()\n",
    " \n",
    "        # 통신 및 통신 에러 처리\n",
    "        rqStatus = self.objRq.GetDibStatus()\n",
    "        rqRet = self.objRq.GetDibMsg1()\n",
    "        print(\"통신상태\", rqStatus, rqRet)\n",
    "        if rqStatus != 0:\n",
    "            return False\n",
    " \n",
    "        cnt = self.objRq.GetHeaderValue(7)\n",
    "        print(cnt)\n",
    " \n",
    "        print(\"종목코드 종목명 신용구분 체결잔고수량 체결장부단가 평가금액 평가손익\")\n",
    "        for i in range(cnt):\n",
    "            code = self.objRq.GetDataValue(12, i)  # 종목코드\n",
    "            name = self.objRq.GetDataValue(0, i)  # 종목명\n",
    "            retcode.append(code)\n",
    "            if len(retcode) >=  200:       # 최대 200 종목만,\n",
    "                break\n",
    "            cashFlag = self.objRq.GetDataValue(1, i)  # 신용구분\n",
    "            date = self.objRq.GetDataValue(2, i)  # 대출일\n",
    "            amount = self.objRq.GetDataValue(7, i) # 체결잔고수량\n",
    "            buyPrice = self.objRq.GetDataValue(17, i) # 체결장부단가\n",
    "            evalValue = self.objRq.GetDataValue(9, i) # 평가금액(천원미만은 절사 됨)\n",
    "            evalPerc = self.objRq.GetDataValue(11, i) # 평가손익\n",
    " \n",
    "            print(code, name, cashFlag, amount, buyPrice, evalValue, evalPerc)\n",
    " \n",
    "    def Request(self, retCode):\n",
    "        self.rq6033(retCode)\n",
    " \n",
    "        # 연속 데이터 조회 - 200 개까지만.\n",
    "        while self.objRq.Continue:\n",
    "            self.rq6033(retCode)\n",
    "            print(len(retCode))\n",
    "            if len(retCode) >= 200:\n",
    "                break\n",
    "        # for debug\n",
    "        size = len(retCode)\n",
    "        for i in range(size):\n",
    "            print(retCode[i])\n",
    "        return True\n"
   ]
  },
  {
   "cell_type": "code",
   "execution_count": 13,
   "metadata": {
    "scrolled": true
   },
   "outputs": [
    {
     "name": "stdout",
     "output_type": "stream",
     "text": [
      "782239427 01\n",
      "통신상태 0 13028 해당자료가 없습니다.(cii.cif.astbln.selcnsbaseaccpt)\n",
      "0\n",
      "종목코드 종목명 신용구분 체결잔고수량 체결장부단가 평가금액 평가손익\n",
      "잔고 종목 개수: 0\n"
     ]
    }
   ],
   "source": [
    "codes = []\n",
    "obj6033 = Cp6033()\n",
    "obj6033.Request(codes)\n",
    "print(\"잔고 종목 개수:\", len(codes))\n"
   ]
  },
  {
   "cell_type": "code",
   "execution_count": null,
   "metadata": {},
   "outputs": [],
   "source": []
  }
 ],
 "metadata": {
  "kernelspec": {
   "display_name": "Python 3",
   "language": "python",
   "name": "python3"
  },
  "language_info": {
   "codemirror_mode": {
    "name": "ipython",
    "version": 3
   },
   "file_extension": ".py",
   "mimetype": "text/x-python",
   "name": "python",
   "nbconvert_exporter": "python",
   "pygments_lexer": "ipython3",
   "version": "3.6.4"
  }
 },
 "nbformat": 4,
 "nbformat_minor": 2
}
