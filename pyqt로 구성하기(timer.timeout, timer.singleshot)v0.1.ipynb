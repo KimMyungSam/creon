{
 "cells": [
  {
   "cell_type": "code",
   "execution_count": 1,
   "metadata": {},
   "outputs": [],
   "source": [
    "import sys\n",
    "from PyQt5.QtWidgets import *\n",
    "from PyQt5.QtCore import *\n",
    "from PyQt5 import uic\n",
    "\n",
    "from datetime import datetime, date"
   ]
  },
  {
   "cell_type": "code",
   "execution_count": 2,
   "metadata": {},
   "outputs": [],
   "source": [
    "# ui data가져오기\n",
    "form_class = uic.loadUiType(\"D:/2ndBUS/creon/pyqt/2ndBUS.ui\")[0]\n",
    "\n",
    "# 윈도우 객체 생성\n",
    "class MyWindow(QMainWindow, form_class):\n",
    "    def __init__(self):\n",
    "        super().__init__()\n",
    "        self.setupUi(self)\n",
    "\n",
    "        today = date.today().strftime(\"%Y-%m-%d\").split('-')  # 오늘 날짜를 구하고 string으로 변환하고 list type으로 만듬\n",
    "        \n",
    "        strategy_time1 = datetime(int(today[0]), int(today[1]), int(today[2]), 6, 43)  # 매일 15시15분에 돌아가는 전략 시간 만들기\n",
    "        delta_time = strategy_time1 - datetime.now()\n",
    "        start_millisecond1 = delta_time.seconds * 1000  # qtimer가 사용하는 초를 밀리초로 바꿈. milliseconds 속성 없음.\n",
    "        \n",
    "        strategy_time2 = datetime(int(today[0]), int(today[1]), int(today[2]), 6, 45)  # 매일 15시30분에 돌아가는 전략 시간 만들기\n",
    "        delta_time = strategy_time2 - datetime.now()\n",
    "        start_millisecond2 = delta_time.seconds * 1000  # qtimer가 사용하는 초를 밀리초로 바꿈. milliseconds 속성 없음.\n",
    "        \n",
    "        #print (start_millisecond)\n",
    "        #print (datetime.now())\n",
    "        \n",
    "        self.timer = QTimer(self)\n",
    "        self.timer.start(1000)\n",
    "        self.timer.timeout.connect(self.timeout1)  # timeout후 주기적으로 실행하는 메쏘드\n",
    "        \n",
    "        self.timer = QTimer(self)        \n",
    "        self.timer.singleShot(start_millisecond1,self.timeout2)  # timeout후 한번 실행하는 메쏘드\n",
    "        \n",
    "        self.timer = QTimer(self)        \n",
    "        self.timer.singleShot(start_millisecond2,self.timeout3)  # timeout후 한번 실행하는 메쏘드\n",
    "                \n",
    "    def timeout1(self):\n",
    "        current_time = QTime.currentTime()\n",
    "        text_time = current_time.toString(\"hh:mm:ss\")\n",
    "        self.statusbar.showMessage(text_time)\n",
    "    \n",
    "    def timeout2(sefl):\n",
    "        print (\"timeout2\")\n",
    "        print (datetime.now())\n",
    "    \n",
    "    def timeout3(sefl):\n",
    "        print (\"timeout3\")\n",
    "        print (datetime.now())\n"
   ]
  },
  {
   "cell_type": "code",
   "execution_count": 3,
   "metadata": {},
   "outputs": [
    {
     "name": "stdout",
     "output_type": "stream",
     "text": [
      "timeout2\n",
      "2018-06-13 06:42:59.994042\n",
      "timeout3\n",
      "2018-06-13 06:44:59.992041\n"
     ]
    }
   ],
   "source": [
    "if __name__ == \"__main__\":\n",
    "    app = QApplication(sys.argv)\n",
    "    myWindow = MyWindow()\n",
    "    myWindow.show()\n",
    "    app.exec_()"
   ]
  },
  {
   "cell_type": "code",
   "execution_count": null,
   "metadata": {},
   "outputs": [],
   "source": []
  }
 ],
 "metadata": {
  "kernelspec": {
   "display_name": "Python 3",
   "language": "python",
   "name": "python3"
  },
  "language_info": {
   "codemirror_mode": {
    "name": "ipython",
    "version": 3
   },
   "file_extension": ".py",
   "mimetype": "text/x-python",
   "name": "python",
   "nbconvert_exporter": "python",
   "pygments_lexer": "ipython3",
   "version": "3.6.4"
  }
 },
 "nbformat": 4,
 "nbformat_minor": 2
}
