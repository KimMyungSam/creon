{
 "cells": [
  {
   "cell_type": "code",
   "execution_count": 1,
   "metadata": {},
   "outputs": [],
   "source": [
    "import sys\n",
    "from PyQt5.QtWidgets import *\n",
    "from PyQt5.QtCore import *\n",
    "from PyQt5 import uic\n",
    "from datetime import datetime, date\n",
    "\n",
    "import ChatBotModel\n",
    "import ETF150_3H15M"
   ]
  },
  {
   "cell_type": "code",
   "execution_count": null,
   "metadata": {},
   "outputs": [],
   "source": [
    "# ui data가져오기\n",
    "form_class = uic.loadUiType(\"D:/2ndBUS/creon/pyqt/2ndBUS.ui\")[0]\n",
    "\n",
    "# 텔레그램 봇 생성하기\n",
    "BUSbot = ChatBotModel.Bot2ndBUS()\n",
    "\n",
    "# 윈도우 객체 생성\n",
    "class MyWindow(QMainWindow, form_class):\n",
    "    def __init__(self):\n",
    "        \n",
    "        #텔레그램봇 메세지 보내기\n",
    "        try:\n",
    "            BUSbot.sendMessage(\"자동매매를 시작합니다.\")\n",
    "        except Exception as ex:\n",
    "            print (\"텔레그램 오류가 발생했습니다.\", ex)\n",
    "            pass  # telegram 처음 첫 시작시 timeout error가 발생하는 경우있어, 발생시 무시고하고 진행함.\n",
    "        \n",
    "        #MyWindow 설정 및 함수들.\n",
    "        super().__init__()\n",
    "        self.setupUi(self)\n",
    "\n",
    "        today = date.today().strftime(\"%Y-%m-%d\").split('-')  # 오늘 날짜를 구하고 string으로 변환하고 list type으로 만듬\n",
    "        \n",
    "        #self.etf_15min_time = datetime(int(today[0]), int(today[1]), int(today[2]), 15, 15)  # 매일 15시15분에 돌아가는 전략 시간 만들기\n",
    "        self.etf_15min_time = datetime(int(today[0]), int(today[1]), int(today[2]), 11, 18)  # 매일 15시15분에 돌아가는 전략 시간 만들기\n",
    "        delta_time = self.etf_15min_time - datetime.now()\n",
    "        etf_15min_millisecond = delta_time.seconds * 1000  # qtimer가 사용하는 초를 밀리초로 바꿈. milliseconds 속성 없음.\n",
    "        \n",
    "        #self.OC_time2 = datetime(int(today[0]), int(today[1]), int(today[2]), 15, 29)  # 매일 15시30분에 돌아가는 전략 시간 만들기\n",
    "        self.etf_30min_time = datetime(int(today[0]), int(today[1]), int(today[2]), 15, 29)  # 매일 15시30분에 돌아가는 전략 시간 만들기\n",
    "        delta_time = self.etf_30min_time - datetime.now()\n",
    "        etf_30min_millisecond = delta_time.seconds * 1000  # qtimer가 사용하는 초를 밀리초로 바꿈. milliseconds 속성 없음.\n",
    "\n",
    "        # 초 단위 timeout\n",
    "        self.timer = QTimer(self)\n",
    "        self.timer.start(1000)\n",
    "        self.timer.timeout.connect(self.second_timeout)  # timeout후 주기적으로 실행하는 메쏘드\n",
    "        \n",
    "        # 종시전략은 15시 ~ 15시40분에만 동작함.\n",
    "        s = datetime(int(today[0]), int(today[1]), int(today[2]), 10, 0)\n",
    "        e = datetime(int(today[0]), int(today[1]), int(today[2]), 23, 59)\n",
    "        \n",
    "        if s < datetime.now() and  datetime.now() < e:\n",
    "            print (\"종시전략을 시행합니다.\")\n",
    "            self.timer = QTimer(self)        \n",
    "            self.timer.singleShot(etf_15min_millisecond, self.etf_3h15min_buy)  # timeout후 한번 실행하는 메쏘드\n",
    "        \n",
    "            self.timer = QTimer(self)        \n",
    "            self.timer.singleShot(etf_30min_millisecond, self.etf_3h30min_buy)  # timeout후 한번 실행하는 메쏘드\n",
    "            \n",
    "    def second_timeout(self):\n",
    "        current_time = QTime.currentTime()\n",
    "        text_time = current_time.toString(\"hh:mm:ss\")\n",
    "        self.statusbar.showMessage(text_time)\n",
    "    \n",
    "    # 3시15분에 직전 15분~20분 트랜드를 보고 전량 매수\n",
    "    def etf_3h15min_buy(self):\n",
    "        ret = ETF150_3H15M.etf150_3h15m_buy()\n",
    "        if ret == True:\n",
    "            print (\"매수 되었습니다.\")\n",
    "        else:\n",
    "            print (\"매수 되지 않았습니다.\")\n",
    "    \n",
    "    # 30분에 매수조건 충족시 전량 매수, 3시15분 전량매수되지 않을때 \n",
    "    def etf_3h30min_buy(self):\n",
    "        if ret == True:\n",
    "            print (\"매수 되었습니다.\")\n",
    "        else:\n",
    "            print (\"매수 되지 않았습니다.\")"
   ]
  },
  {
   "cell_type": "code",
   "execution_count": null,
   "metadata": {},
   "outputs": [
    {
     "name": "stdout",
     "output_type": "stream",
     "text": [
      "종시전략을 시행합니다.\n",
      "get_daily_price 통신상태 0 \n",
      "get_current_price 통신상태 0 0027 조회가 완료되었습니다.(stock.new.mst)\n",
      "782239427 01\n",
      "buy_code 통신상태 -1 12357 주문업무가 마감되었습니다.(ordss.cststkord)\n",
      "매수시 크레온 API 연동에 문제가 발생하였습니다\n"
     ]
    }
   ],
   "source": [
    "if __name__ == \"__main__\":\n",
    "    app = QApplication(sys.argv)\n",
    "    myWindow = MyWindow()\n",
    "    myWindow.show()\n",
    "    app.exec_()"
   ]
  },
  {
   "cell_type": "code",
   "execution_count": null,
   "metadata": {},
   "outputs": [],
   "source": []
  }
 ],
 "metadata": {
  "kernelspec": {
   "display_name": "Python 3",
   "language": "python",
   "name": "python3"
  },
  "language_info": {
   "codemirror_mode": {
    "name": "ipython",
    "version": 3
   },
   "file_extension": ".py",
   "mimetype": "text/x-python",
   "name": "python",
   "nbconvert_exporter": "python",
   "pygments_lexer": "ipython3",
   "version": "3.6.4"
  }
 },
 "nbformat": 4,
 "nbformat_minor": 2
}
