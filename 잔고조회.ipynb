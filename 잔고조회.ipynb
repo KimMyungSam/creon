{
 "cells": [
  {
   "cell_type": "code",
   "execution_count": 1,
   "metadata": {},
   "outputs": [
    {
     "data": {
      "text/plain": [
       "0"
      ]
     },
     "execution_count": 1,
     "metadata": {},
     "output_type": "execute_result"
    }
   ],
   "source": [
    "import sys\n",
    "from PyQt5.QtWidgets import *\n",
    "import win32com.client\n",
    "import ctypes\n",
    "\n",
    "################################################\n",
    "# PLUS 공통 OBJECT\n",
    "g_objCodeMgr = win32com.client.Dispatch('CpUtil.CpCodeMgr')\n",
    "g_objCpStatus = win32com.client.Dispatch('CpUtil.CpCybos')\n",
    "g_objCpTrade = win32com.client.Dispatch('CpTrade.CpTdUtil')\n",
    "\n",
    "\n",
    "################################################\n",
    "g_objCpTrade.TradeInit(0)"
   ]
  },
  {
   "cell_type": "code",
   "execution_count": 2,
   "metadata": {},
   "outputs": [],
   "source": [
    "################################################\n",
    "# Cp6033 : 주식 잔고 조회\n",
    "class Cp6033:\n",
    "    def __init__(self):\n",
    "        acc = g_objCpTrade.AccountNumber[0]  # 계좌번호\n",
    "        accFlag = g_objCpTrade.GoodsList(acc, 1)  # 주식상품 구분\n",
    "        print(acc, accFlag[0])\n",
    "\n",
    "        self.objRq = win32com.client.Dispatch(\"CpTrade.CpTd6033\")\n",
    "        self.objRq.SetInputValue(0, acc)  # 계좌번호\n",
    "        self.objRq.SetInputValue(1, accFlag[0])  # 상품구분 - 주식 상품 중 첫번째\n",
    "        self.objRq.SetInputValue(2, 50)  # 요청 건수(최대 50)\n",
    "        self.dicflag1 = {ord(' '): '현금',\n",
    "                         ord('Y'): '융자',\n",
    "                         ord('D'): '대주',\n",
    "                         ord('B'): '담보',\n",
    "                         ord('M'): '매입담보',\n",
    "                         ord('P'): '플러스론',\n",
    "                         ord('I'): '자기융자',\n",
    "                         }\n",
    "\n",
    "\n",
    "    # 실제적인 6033 통신 처리\n",
    "    def requestJango(self, caller):\n",
    "        while True:\n",
    "            self.objRq.BlockRequest()\n",
    "            # 통신 및 통신 에러 처리\n",
    "            rqStatus = self.objRq.GetDibStatus()\n",
    "            rqRet = self.objRq.GetDibMsg1()\n",
    "            print(\"통신상태\", rqStatus, rqRet)\n",
    "            if rqStatus != 0:\n",
    "                return False\n",
    "\n",
    "            cnt = self.objRq.GetHeaderValue(7)\n",
    "            print(cnt)\n",
    "\n",
    "\n",
    "            for i in range(cnt):\n",
    "                item = {}\n",
    "                code = self.objRq.GetDataValue(12, i)  # 종목코드\n",
    "                item['종목코드'] = code\n",
    "                item['종목명'] = self.objRq.GetDataValue(0, i)  # 종목명\n",
    "                item['현금신용'] = self.dicflag1[self.objRq.GetDataValue(1,i)] # 신용구분\n",
    "                print(code, '현금신용', item['현금신용'])\n",
    "                item['대출일'] = self.objRq.GetDataValue(2, i)  # 대출일\n",
    "                item['잔고수량'] = self.objRq.GetDataValue(7, i)  # 체결잔고수량\n",
    "                item['매도가능'] = self.objRq.GetDataValue(15, i)\n",
    "                item['장부가'] = self.objRq.GetDataValue(17, i)  # 체결장부단가\n",
    "                #item['평가금액'] = self.objRq.GetDataValue(9, i)  # 평가금액(천원미만은 절사 됨)\n",
    "                #item['평가손익'] = self.objRq.GetDataValue(11, i)  # 평가손익(천원미만은 절사 됨)\n",
    "                # 매입금액 = 장부가 * 잔고수량\n",
    "                item['매입금액'] = item['장부가'] * item['잔고수량']\n",
    "                item['현재가'] = 0\n",
    "                item['대비'] = 0\n",
    "                item['거래량'] = 0\n",
    "\n",
    "                # 잔고 추가\n",
    "#                key = (code, item['현금신용'],item['대출일'] )\n",
    "                key = code\n",
    "                caller.jangoData[key] = item\n",
    "\n",
    "                if len(caller.jangoData) >= 200:  # 최대 200 종목만,\n",
    "                    break\n",
    "\n",
    "            if len(caller.jangoData) >= 200:\n",
    "                break\n",
    "            if (self.objRq.Continue == False):\n",
    "                break\n",
    "        return True\n"
   ]
  },
  {
   "cell_type": "code",
   "execution_count": 8,
   "metadata": {},
   "outputs": [
    {
     "name": "stdout",
     "output_type": "stream",
     "text": [
      "782239427 01\n"
     ]
    },
    {
     "ename": "TypeError",
     "evalue": "requestJango() missing 1 required positional argument: 'caller'",
     "output_type": "error",
     "traceback": [
      "\u001b[1;31m---------------------------------------------------------------------------\u001b[0m",
      "\u001b[1;31mTypeError\u001b[0m                                 Traceback (most recent call last)",
      "\u001b[1;32m<ipython-input-8-c958e95cee23>\u001b[0m in \u001b[0;36m<module>\u001b[1;34m()\u001b[0m\n\u001b[0;32m      2\u001b[0m \u001b[0mobj6033\u001b[0m \u001b[1;33m=\u001b[0m \u001b[0mCp6033\u001b[0m\u001b[1;33m(\u001b[0m\u001b[1;33m)\u001b[0m\u001b[1;33m\u001b[0m\u001b[0m\n\u001b[0;32m      3\u001b[0m \u001b[0mjangoData\u001b[0m \u001b[1;33m=\u001b[0m \u001b[1;33m{\u001b[0m\u001b[1;33m}\u001b[0m\u001b[1;33m\u001b[0m\u001b[0m\n\u001b[1;32m----> 4\u001b[1;33m \u001b[0mobj6033\u001b[0m\u001b[1;33m.\u001b[0m\u001b[0mrequestJango\u001b[0m\u001b[1;33m(\u001b[0m\u001b[1;33m)\u001b[0m\u001b[1;33m\u001b[0m\u001b[0m\n\u001b[0m\u001b[0;32m      5\u001b[0m \u001b[1;33m\u001b[0m\u001b[0m\n\u001b[0;32m      6\u001b[0m \u001b[0mprint\u001b[0m \u001b[1;33m(\u001b[0m\u001b[1;34m\"jangoData\"\u001b[0m\u001b[1;33m,\u001b[0m\u001b[0mjangoData\u001b[0m\u001b[1;33m)\u001b[0m\u001b[1;33m\u001b[0m\u001b[0m\n",
      "\u001b[1;31mTypeError\u001b[0m: requestJango() missing 1 required positional argument: 'caller'"
     ]
    }
   ],
   "source": [
    "# 6033 잔고 object\n",
    "obj6033 = Cp6033()\n",
    "jangoData = {}\n",
    "obj6033.requestJango()\n",
    "\n",
    "print (\"jangoData\",jangoData)\n",
    "\n",
    "# 잔고 현재가 통신\n",
    "codes = set()\n",
    "for code, value in self.jangoData.items():\n",
    "    print (code)\n",
    "    print (value)"
   ]
  },
  {
   "cell_type": "code",
   "execution_count": null,
   "metadata": {},
   "outputs": [],
   "source": []
  }
 ],
 "metadata": {
  "kernelspec": {
   "display_name": "Python 3",
   "language": "python",
   "name": "python3"
  },
  "language_info": {
   "codemirror_mode": {
    "name": "ipython",
    "version": 3
   },
   "file_extension": ".py",
   "mimetype": "text/x-python",
   "name": "python",
   "nbconvert_exporter": "python",
   "pygments_lexer": "ipython3",
   "version": "3.6.4"
  }
 },
 "nbformat": 4,
 "nbformat_minor": 2
}
