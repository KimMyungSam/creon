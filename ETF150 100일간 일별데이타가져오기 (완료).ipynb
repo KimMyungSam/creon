{
 "cells": [
  {
   "cell_type": "code",
   "execution_count": 1,
   "metadata": {
    "scrolled": true
   },
   "outputs": [],
   "source": [
    "import win32com.client\n",
    "import pandas as pd\n",
    "\n",
    "stock_chart = win32com.client.Dispatch(\"CpSysDib.StockChart\")\n",
    "\n",
    "stock_chart.SetInputValue(0, 'A233740')                     # 종목 코드\n",
    "stock_chart.SetInputValue(1, ord('2'))                      # 요청 구분 '1': 기간, '2': 개수\n",
    "stock_chart.SetInputValue(4, 1000)                           # 요청 데이터의 개수\n",
    "stock_chart.SetInputValue(5, [0, 2, 3, 4, 5, 8, 13])        # 요청 내용, 0-day, 2-open, 3,-high..\n",
    "stock_chart.SetInputValue(6, ord('D'))                      # 분봉 데이터\n",
    "stock_chart.SetInputValue(9, '1')                           # 수정 주가\n",
    "stock_chart.BlockRequest()\n",
    "\n",
    "count = stock_chart.GetHeaderValue(3)\n",
    "\n",
    "etf150 = []\n",
    "for i in range(count):\n",
    "    day = stock_chart.GetDataValue(0, i)  # 위 SetInputValue(5, [0, 2, 3, 4, 5, 8, 13]) 결과를 순서대로 get\n",
    "    open = stock_chart.GetDataValue(1, i)\n",
    "    high = stock_chart.GetDataValue(2, i)\n",
    "    low = stock_chart.GetDataValue(3, i)\n",
    "    close = stock_chart.GetDataValue(4, i)\n",
    "    volume = stock_chart.GetDataValue(5, i)\n",
    "    \n",
    "    etf150.append([day, open, high, low, close, volume])\n",
    "\n",
    "labels = ['Day','Open','High','Low','Close','Volume']\n",
    "df = pd.DataFrame.from_records(etf150, columns=labels)\n",
    "df = df.sort_values(by=['Day'], ascending=True)  # 날짜 기준으로 오름차순 정렬\n",
    "etf150_data = df.set_index('Day')\n",
    "# df = df[['day','open','high','low','close','volume']]  #  re-order\n"
   ]
  },
  {
   "cell_type": "code",
   "execution_count": 3,
   "metadata": {},
   "outputs": [],
   "source": [
    "etf150_data.to_csv(\"etf150.csv\", mode=\"w\")"
   ]
  },
  {
   "cell_type": "code",
   "execution_count": null,
   "metadata": {},
   "outputs": [],
   "source": []
  }
 ],
 "metadata": {
  "kernelspec": {
   "display_name": "Python 3",
   "language": "python",
   "name": "python3"
  },
  "language_info": {
   "codemirror_mode": {
    "name": "ipython",
    "version": 3
   },
   "file_extension": ".py",
   "mimetype": "text/x-python",
   "name": "python",
   "nbconvert_exporter": "python",
   "pygments_lexer": "ipython3",
   "version": "3.6.4"
  }
 },
 "nbformat": 4,
 "nbformat_minor": 2
}
