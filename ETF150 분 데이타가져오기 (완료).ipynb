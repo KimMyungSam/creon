{
 "cells": [
  {
   "cell_type": "code",
   "execution_count": 7,
   "metadata": {},
   "outputs": [
    {
     "name": "stdout",
     "output_type": "stream",
     "text": [
      "20180608 20010 20010 20010 20010 114117 0\n",
      "20180608 19990 20015 19980 20010 31206 0\n",
      "20180608 19995 20010 19980 19990 22470 0\n",
      "20180608 19995 20005 19980 19985 25838 0\n",
      "20180608 19990 20015 19990 19995 24011 0\n",
      "20180608 19975 20050 19975 19990 48159 0\n",
      "20180608 19975 19985 19965 19975 16726 0\n",
      "20180608 19980 19990 19970 19975 24887 0\n",
      "20180608 20010 20025 19980 19985 81342 0\n",
      "20180608 20005 20025 20005 20010 30863 0\n",
      "20180608 20020 20035 20005 20005 23361 0\n",
      "20180608 20025 20045 20015 20030 33284 0\n",
      "20180608 20040 20055 20025 20040 24813 0\n",
      "20180608 20060 20070 20030 20040 80665 0\n",
      "20180608 20105 20105 20055 20060 50441 0\n",
      "20180608 20145 20155 20100 20100 19012 0\n",
      "20180608 20140 20150 20115 20150 11277 0\n",
      "20180608 20130 20140 20125 20140 13219 0\n",
      "20180608 20105 20135 20105 20125 13476 0\n",
      "20180608 20095 20105 20090 20105 9598 0\n"
     ]
    }
   ],
   "source": [
    "import win32com.client\n",
    "stock_chart = win32com.client.Dispatch(\"CpSysDib.StockChart\")\n",
    "\n",
    "stock_chart.SetInputValue(0, 'A233740')                     # 종목 코드\n",
    "stock_chart.SetInputValue(1, ord('2'))                      # 요청 구분 '1': 기간, '2': 개수\n",
    "#stock_chart.SetInputValue(2, 20180531)                      # 시작/끝 날짜를 같이 주어야 하루치 분데이터 조회가능능\n",
    "#stock_chart.SetInputValue(3, 20180531)\n",
    "stock_chart.SetInputValue(4, 20)                           # 요청 데이터의 개수\n",
    "stock_chart.SetInputValue(5, [0, 2, 3, 4, 5, 8, 13])        # 요청 내용, 0-day, 2-open, 3,-high..\n",
    "stock_chart.SetInputValue(6, ord('m'))                      # 분봉 데이터\n",
    "stock_chart.SetInputValue(9, '1')                           # 수정 주가\n",
    "stock_chart.BlockRequest()\n",
    "\n",
    "count = stock_chart.GetHeaderValue(3)\n",
    "\n",
    "closelist = []\n",
    "for i in range(count):\n",
    "    day = stock_chart.GetDataValue(0, i)  # 위 SetInputValue(5, [0, 2, 3, 4, 5, 8, 13]) 결과를 순서대로 get\n",
    "    open = stock_chart.GetDataValue(1, i)\n",
    "    high = stock_chart.GetDataValue(2, i)\n",
    "    low = stock_chart.GetDataValue(3, i)\n",
    "    close = stock_chart.GetDataValue(4, i)\n",
    "    volume = stock_chart.GetDataValue(5, i)\n",
    "    cap = stock_chart.GetDataValue(6, i)\n",
    "    \n",
    "    closelist.append(close)\n",
    "    print(day, open, high, low, close, volume, cap)"
   ]
  },
  {
   "cell_type": "code",
   "execution_count": 8,
   "metadata": {},
   "outputs": [
    {
     "name": "stdout",
     "output_type": "stream",
     "text": [
      "<class 'list'>\n"
     ]
    }
   ],
   "source": [
    "print (type(closelist))"
   ]
  },
  {
   "cell_type": "code",
   "execution_count": 9,
   "metadata": {},
   "outputs": [],
   "source": [
    "closelist.reverse()  # API에서 데이터를 가져오기 최신데이타 제일먼저옴"
   ]
  },
  {
   "cell_type": "code",
   "execution_count": 11,
   "metadata": {},
   "outputs": [
    {
     "data": {
      "image/png": "[encoded data removed]",
      "text/plain": [
       "<matplotlib.figure.Figure at 0x1221c50>"
      ]
     },
     "metadata": {},
     "output_type": "display_data"
    }
   ],
   "source": [
    "import matplotlib.pyplot as plt\n",
    "%matplotlib inline\n",
    "\n",
    "plt.plot(closelist)\n",
    "plt.show()"
   ]
  },
  {
   "cell_type": "code",
   "execution_count": null,
   "metadata": {},
   "outputs": [],
   "source": []
  }
 ],
 "metadata": {
  "kernelspec": {
   "display_name": "Python 3",
   "language": "python",
   "name": "python3"
  },
  "language_info": {
   "codemirror_mode": {
    "name": "ipython",
    "version": 3
   },
   "file_extension": ".py",
   "mimetype": "text/x-python",
   "name": "python",
   "nbconvert_exporter": "python",
   "pygments_lexer": "ipython3",
   "version": "3.6.4"
  }
 },
 "nbformat": 4,
 "nbformat_minor": 2
}
