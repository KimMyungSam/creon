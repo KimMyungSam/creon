{
 "cells": [
  {
   "cell_type": "code",
   "execution_count": 1,
   "metadata": {},
   "outputs": [],
   "source": [
    "import win32com.client\n",
    " \n",
    " \n",
    "# 연결 여부 체크\n",
    "objCpCybos = win32com.client.Dispatch(\"CpUtil.CpCybos\")\n",
    "bConnect = objCpCybos.IsConnect\n",
    "if (bConnect == 0):\n",
    "    print(\"PLUS가 정상적으로 연결되지 않음. \")\n",
    "    exit()\n",
    " \n",
    "# 주문 초기화\n",
    "objTrade =  win32com.client.Dispatch(\"CpTrade.CpTdUtil\")\n",
    "initCheck = objTrade.TradeInit(0)\n",
    "if (initCheck != 0):\n",
    "    print(\"주문 초기화 실패\")\n",
    "    exit()\n",
    " "
   ]
  },
  {
   "cell_type": "code",
   "execution_count": 2,
   "metadata": {},
   "outputs": [
    {
     "ename": "NameError",
     "evalue": "name 'self' is not defined",
     "output_type": "error",
     "traceback": [
      "\u001b[1;31m---------------------------------------------------------------------------\u001b[0m",
      "\u001b[1;31mNameError\u001b[0m                                 Traceback (most recent call last)",
      "\u001b[1;32m<ipython-input-2-82616a18d32c>\u001b[0m in \u001b[0;36m<module>\u001b[1;34m()\u001b[0m\n\u001b[0;32m      1\u001b[0m \u001b[1;31m# 계좌잔고 조회 하여 매도주문 가능 수량 및 종목을 확인이 필요함.\u001b[0m\u001b[1;33m\u001b[0m\u001b[1;33m\u001b[0m\u001b[0m\n\u001b[0;32m      2\u001b[0m \u001b[1;33m\u001b[0m\u001b[0m\n\u001b[1;32m----> 3\u001b[1;33m \u001b[0mret\u001b[0m \u001b[1;33m=\u001b[0m \u001b[0mself\u001b[0m\u001b[1;33m.\u001b[0m\u001b[0mobjRq\u001b[0m\u001b[1;33m.\u001b[0m\u001b[0mBlockRequest\u001b[0m\u001b[1;33m(\u001b[0m\u001b[1;33m)\u001b[0m\u001b[1;33m\u001b[0m\u001b[0m\n\u001b[0m\u001b[0;32m      4\u001b[0m \u001b[1;32mif\u001b[0m \u001b[0mret\u001b[0m \u001b[1;33m==\u001b[0m \u001b[1;36m4\u001b[0m \u001b[1;33m:\u001b[0m\u001b[1;33m\u001b[0m\u001b[0m\n\u001b[0;32m      5\u001b[0m     \u001b[0mremainTime\u001b[0m \u001b[1;33m=\u001b[0m \u001b[0mg_objCpStatus\u001b[0m\u001b[1;33m.\u001b[0m\u001b[0mLimitRequestRemainTime\u001b[0m\u001b[1;33m\u001b[0m\u001b[0m\n",
      "\u001b[1;31mNameError\u001b[0m: name 'self' is not defined"
     ]
    }
   ],
   "source": [
    "# 계좌잔고 조회 하여 매도주문 가능 수량 및 종목을 확인이 필요함. \n",
    "\n",
    "ret = self.objRq.BlockRequest()\n",
    "if ret == 4 :\n",
    "    remainTime = g_objCpStatus.LimitRequestRemainTime\n",
    "    print('연속조회 제한 오류, 남은 시간', remainTime)\n",
    "    return False\n",
    "# 통신 및 통신 에러 처리\n",
    "rqStatus = self.objRq.GetDibStatus()\n",
    "rqRet = self.objRq.GetDibMsg1()\n",
    "print(\"통신상태\", rqStatus, rqRet)\n",
    "if rqStatus != 0:\n",
    "    return False\n",
    "\n",
    "cnt = self.objRq.GetHeaderValue(7)\n",
    "print(cnt)\n",
    "\n",
    "for i in range(cnt):\n",
    "    item = {}\n",
    "    code = self.objRq.GetDataValue(12, i)  # 종목코드\n",
    "    item['종목코드'] = code\n",
    "    item['종목명'] = self.objRq.GetDataValue(0, i)  # 종목명\n",
    "    item['현금신용'] = self.objRq.GetDataValue(1, i)  # 신용구분\n",
    "    print(code, '현금신용', item['현금신용'])\n",
    "    item['대출일'] = self.objRq.GetDataValue(2, i)  # 대출일\n",
    "    item['잔고수량'] = self.objRq.GetDataValue(7, i)  # 체결잔고수량\n",
    "    item['매도가능'] = self.objRq.GetDataValue(15, i)\n",
    "    item['장부가'] = self.objRq.GetDataValue(17, i)  # 체결장부단가\n",
    "    # 매입금액 = 장부가 * 잔고수량\n",
    "    item['매입금액'] = item['장부가'] * item['잔고수량']\n",
    "\n",
    "    # 잔고 추가\n",
    "    caller.jangoData[code] = item\n",
    "\n",
    "    if len(caller.jangoData) >= 200:  # 최대 200 종목만,\n",
    "        break\n",
    "\n",
    "if len(caller.jangoData) >= 200:\n",
    "    break\n",
    "if (self.objRq.Continue == False):\n",
    "    break\n"
   ]
  },
  {
   "cell_type": "code",
   "execution_count": null,
   "metadata": {},
   "outputs": [],
   "source": [
    "# 주식 매도 주문\n",
    "acc = objTrade.AccountNumber[0] #계좌번호\n",
    "accFlag = objTrade.GoodsList(acc, 1)  # 주식상품 구분\n",
    "print(acc, accFlag[0])\n",
    "objStockOrder = win32com.client.Dispatch(\"CpTrade.CpTd0311\")\n",
    "objStockOrder.SetInputValue(0, \"1\")   #  1: 매도\n",
    "objStockOrder.SetInputValue(1, acc )   #  계좌번호\n",
    "objStockOrder.SetInputValue(2, accFlag[0])   #  상품구분 - 주식 상품 중 첫번째\n",
    "objStockOrder.SetInputValue(3, \"A003540\")   #  종목코드 - A003540 - 대신증권 종목\n",
    "objStockOrder.SetInputValue(4, 10)   #  매도수량 10주\n",
    "objStockOrder.SetInputValue(5, 14100)   #  주문단가  - 14,100원\n",
    "objStockOrder.SetInputValue(7, \"0\")   #  주문 조건 구분 코드, 0: 기본 1: IOC 2:FOK\n",
    "objStockOrder.SetInputValue(8, \"01\")   # 주문호가 구분코드 - 01: 보통\n",
    " \n",
    "# 매도 주문 요청\n",
    "objStockOrder.BlockRequest()\n",
    " \n",
    "rqStatus = objStockOrder.GetDibStatus()\n",
    "rqRet = objStockOrder.GetDibMsg1()\n",
    "print(\"통신상태\", rqStatus, rqRet)\n",
    "if rqStatus != 0:\n",
    "    exit()"
   ]
  },
  {
   "cell_type": "code",
   "execution_count": null,
   "metadata": {},
   "outputs": [],
   "source": []
  }
 ],
 "metadata": {
  "kernelspec": {
   "display_name": "Python 3",
   "language": "python",
   "name": "python3"
  },
  "language_info": {
   "codemirror_mode": {
    "name": "ipython",
    "version": 3
   },
   "file_extension": ".py",
   "mimetype": "text/x-python",
   "name": "python",
   "nbconvert_exporter": "python",
   "pygments_lexer": "ipython3",
   "version": "3.6.4"
  }
 },
 "nbformat": 4,
 "nbformat_minor": 2
}
